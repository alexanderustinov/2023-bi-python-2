%matplotlib ipympl
import numpy as np
import matplotlib.pyplot as plt
import ipywidgets as widgets
from ipywidgets import interact
def parameters(u, v, a, b, c):
    x = a * np.sin(u) * np.cos(v)
    y = b * np.sin(u) * np.sin(v)
    z = c * (np.cos(u))
    return x, y, z
def ellipsoid(a, b, c):
    fig = plt.figure()
    ax = fig.add_subplot(111, projection='3d')
    u = np.linspace(0, 2 * np.pi, 100)
    v = np.linspace(0, np.pi, 100)
    u, v = np.meshgrid(u, v)
    x, y, z = parameters(u, v, a, b, c)
    ax.plot_surface(x, y, z, cmap='cool')
    ax.set_xlabel('X')
    ax.set_ylabel('Y')
    ax.set_zlabel('Z')
    ax.set_title("Ellipsoid, a = {}, b = {}, c = {}".format(a,b,c))
    plt.show()
a_w = widgets.IntSlider(value=1, min= 1, max=15, step=1, description='a:')
b_w = widgets.IntSlider(value=1, min= 1, max=15, step=1, description='b:')
c_w = widgets.IntSlider(value=1, min= 1, max=15, step=1, description='c:')
interact(ellipsoid, a = a_w, b = b_w, c = c_w)
