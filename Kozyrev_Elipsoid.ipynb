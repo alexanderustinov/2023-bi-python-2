{
 "cells": [
  {
   "cell_type": "markdown",
   "id": "8683f36e-aaea-46fa-b64d-db69afe4e95c",
   "metadata": {},
   "source": [
    "### Ellipsoid"
   ]
  },
  {
   "cell_type": "markdown",
   "id": "5a478738-eba4-4e30-a800-d9c1be72e316",
   "metadata": {},
   "source": [
    "Формула для элипсоида в параметрическом виде в трехмерном пространстве выглядит следующим образом:\n",
    "\\begin{cases}\n",
    "x = a \\cdot \\cos(u) \\cdot \\sin(v) \\\\\n",
    "y = b \\cdot \\sin(u) \\cdot \\sin(v) \\\\\n",
    "z = c \\cdot \\cos(v)\n",
    "\\end{cases}\n",
    "u принадлежит диапазону\n",
    "$$ (0, 2\\pi) $$\n",
    "v принадлежит диапазону\n",
    "$$ (0, \\pi) $$"
   ]
  },
  {
   "cell_type": "markdown",
   "id": "86313b76-0300-4ad0-a469-ec42e8d6376e",
   "metadata": {},
   "source": [
    "https://en.wikipedia.org/wiki/Ellipsoid"
   ]
  },
  {
   "cell_type": "code",
   "execution_count": 4,
   "id": "0f518d30-5219-4393-9e0a-552836c3ec3c",
   "metadata": {},
   "outputs": [],
   "source": [
    "%matplotlib widget\n",
    "import numpy as np\n",
    "import matplotlib.pyplot as plt\n",
    "import ipywidgets as widgets"
   ]
  },
  {
   "cell_type": "code",
   "execution_count": 21,
   "id": "ba231d8d-4644-4539-a2b7-3c1ccce3a973",
   "metadata": {},
   "outputs": [
    {
     "data": {
      "application/vnd.jupyter.widget-view+json": {
       "model_id": "43522b5b2a3845cebda653942e5ff91a",
       "version_major": 2,
       "version_minor": 0
      },
      "text/plain": [
       "interactive(children=(IntSlider(value=5, description='a', max=20, min=1), IntSlider(value=5, description='b', …"
      ]
     },
     "metadata": {},
     "output_type": "display_data"
    },
    {
     "data": {
      "text/plain": [
       "<function __main__.plot_ellipsoid(a=5, b=5, c=5, stride=4)>"
      ]
     },
     "execution_count": 21,
     "metadata": {},
     "output_type": "execute_result"
    }
   ],
   "source": [
    "def plot_ellipsoid(a=5, b=5, c=5,stride=4):\n",
    "    u = np.linspace(0, 2*np.pi, 100)\n",
    "    v = np.linspace(0, np.pi, 100)\n",
    "    \n",
    "    x = a * np.outer(np.cos(u), np.sin(v))\n",
    "    y = b * np.outer(np.sin(u), np.sin(v))\n",
    "    z = c * np.outer(np.ones(np.size(u)), np.cos(v))\n",
    "\n",
    "    fig = plt.figure()\n",
    "    ax = fig.add_subplot(111, projection='3d')\n",
    "    ax.plot_surface(x, y, z, cmap='viridis', rstride=stride, cstride=stride, color='b', alpha=0.5)\n",
    "    \n",
    "    ax.set_xlim(-a, a)\n",
    "    ax.set_ylim(-b, b)\n",
    "    ax.set_zlim(-c, c)\n",
    "    \n",
    "    plt.show()\n",
    "\n",
    "widgets.interact(plot_ellipsoid, a=(1, 20, 1), b=(1, 20, 1), c=(1, 20, 1), stride=(1, 100, 1))\n"
   ]
  },
  {
   "cell_type": "code",
   "execution_count": null,
   "id": "ad15b08e",
   "metadata": {},
   "outputs": [],
   "source": []
  },
  {
   "cell_type": "code",
   "execution_count": null,
   "id": "564c4085",
   "metadata": {},
   "outputs": [],
   "source": []
  }
 ],
 "metadata": {
  "kernelspec": {
   "display_name": "Python 3 (ipykernel)",
   "language": "python",
   "name": "python3"
  },
  "language_info": {
   "codemirror_mode": {
    "name": "ipython",
    "version": 3
   },
   "file_extension": ".py",
   "mimetype": "text/x-python",
   "name": "python",
   "nbconvert_exporter": "python",
   "pygments_lexer": "ipython3",
   "version": "3.11.5"
  }
 },
 "nbformat": 4,
 "nbformat_minor": 5
}
