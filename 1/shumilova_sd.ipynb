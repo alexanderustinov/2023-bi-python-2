{
 "cells": [
  {
   "cell_type": "code",
   "execution_count": 10,
   "id": "32824f91-e506-4282-9774-c20b8d73dfa6",
   "metadata": {
    "scrolled": true
   },
   "outputs": [
    {
     "data": {
      "application/vnd.jupyter.widget-view+json": {
       "model_id": "630aa426c71d4459a14b720094978f14",
       "version_major": 2,
       "version_minor": 0
      },
      "text/plain": [
       "interactive(children=(FloatSlider(value=1.0, description='a', max=2.0, min=0.1), FloatSlider(value=1.0, descri…"
      ]
     },
     "metadata": {},
     "output_type": "display_data"
    }
   ],
   "source": [
    "%matplotlib widget\n",
    "import numpy as np\n",
    "import matplotlib.pyplot as plt\n",
    "from mpl_toolkits.mplot3d import Axes3D\n",
    "import ipywidgets as widgets\n",
    "from IPython.display import display\n",
    "from ipywidgets import interactive\n",
    "\n",
    "def plot_hyperboloid(a, b, c):    \n",
    "    u = np.linspace(-2, 2, 10)\n",
    "    v = np.linspace(2, 2 * np.pi, 10)    \n",
    "    U, V = np.meshgrid(u, v)\n",
    "    X = a * np.cosh(U) * np.cos(V)    \n",
    "    Y = b * np.cosh(U) * np.sin(V)\n",
    "    Z = c * np.sinh(U)\n",
    "\n",
    "    fig = plt.figure()   \n",
    "    ax = fig.add_subplot(111, projection='3d')\n",
    "    ax.plot_surface(X, Y, Z, cmap='viridis')\n",
    "    ax.set_xlabel('X')\n",
    "    ax.set_ylabel('Y')    \n",
    "    ax.set_zlabel('Z')\n",
    "    ax.set_xlim(-10, 10)\n",
    "    ax.set_ylim(-10, 10)    \n",
    "    ax.set_zlim(0, 10)\n",
    "    plt.show()\n",
    "\n",
    "a_slider = widgets.FloatSlider(min=0.1, max=2, step=0.1, value=1, description='a')\n",
    "b_slider = widgets.FloatSlider(min=0.1, max=2, step=0.1, value=1, description='b')\n",
    "c_slider = widgets.FloatSlider(min=0.1, max=2, step=0.1, value=1, description='c')\n",
    "\n",
    "interactive_plot = interactive(plot_hyperboloid, a=a_slider, b=b_slider, c=c_slider)\n",
    "display(interactive_plot)"
   ]
  },
  {
   "cell_type": "code",
   "execution_count": null,
   "id": "bccbdbe8-604a-415b-a9d5-33bfd6bef09f",
   "metadata": {},
   "outputs": [],
   "source": []
  }
 ],
 "metadata": {
  "kernelspec": {
   "display_name": "Python 3 (ipykernel)",
   "language": "python",
   "name": "python3"
  },
  "language_info": {
   "codemirror_mode": {
    "name": "ipython",
    "version": 3
   },
   "file_extension": ".py",
   "mimetype": "text/x-python",
   "name": "python",
   "nbconvert_exporter": "python",
   "pygments_lexer": "ipython3",
   "version": "3.11.4"
  }
 },
 "nbformat": 4,
 "nbformat_minor": 5
}
