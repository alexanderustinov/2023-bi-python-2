import numpy as np
import matplotlib.pyplot as plt
from mpl_toolkits.mplot3d import Axes3D
import ipywidgets as widgets
from IPython.display import display
from ipywidgets import interactive


def plot_hyperboloid(a, b, c):
    u = np.linspace(-5, 5, 100)
    v = np.linspace(0, 2 * np.pi, 100)
    U, V = np.meshgrid(u, v)
    X = a * np.cosh(U) * np.cos(V)
    Y = b * np.cosh(U) * np.sin(V)
    Z = c * np.sinh(U)

    fig = plt.figure()
    ax = fig.add_subplot(111, projection='3d')
    ax.plot_surface(X, Y, Z, cmap='viridis')
    ax.set_xlabel('X')
    ax.set_ylabel('Y')
    ax.set_zlabel('Z')
    plt.show()


a_slider = widgets.FloatSlider(min=0.1, max=2, step=0.1, value=1, description='a')
b_slider = widgets.FloatSlider(min=0.1, max=2, step=0.1, value=1, description='b')
c_slider = widgets.FloatSlider(min=0.1, max=2, step=0.1, value=1, description='c')

interactive_plot = interactive(plot_hyperboloid, a=a_slider, b=b_slider, c=c_slider)
display(interactive_plot)