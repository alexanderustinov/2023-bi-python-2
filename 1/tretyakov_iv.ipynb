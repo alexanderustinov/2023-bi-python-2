{
 "cells": [
  {
   "cell_type": "markdown",
   "id": "bf3cf644-8071-416e-aeec-2984497e3c91",
   "metadata": {},
   "source": [
    "# Spheroid\n",
    "\n",
    "https://mathworld.wolfram.com/Spheroid.html\n",
    "\n",
    "https://en.wikipedia.org/wiki/Spheroid\n",
    "$$x=a\\ cos\\ u\\ sin\\ v$$\n",
    "$$y=b\\ sin\\ u\\ sin\\ v$$\n",
    "$$z=c\\ cos\\ v$$\n",
    "\n",
    "В работе [из виджетов] использовал interactive(помимо FloatSlider), с ним всё работает быстро и просто."
   ]
  },
  {
   "cell_type": "code",
   "execution_count": 1,
   "id": "a5b78e18-86dd-47a3-a1c7-ea61cf370df5",
   "metadata": {},
   "outputs": [],
   "source": [
    "%matplotlib ipympl\n",
    "import matplotlib.pyplot as plt\n",
    "import numpy as np\n",
    "import ipywidgets as widgets\n",
    "from mpl_toolkits.mplot3d import axes3d"
   ]
  },
  {
   "cell_type": "code",
   "execution_count": 2,
   "id": "2a70054a-38b6-4c64-8bee-0d412ee399cb",
   "metadata": {},
   "outputs": [],
   "source": [
    "a_s = widgets.FloatSlider(value = 2, min=-10.0, max=10.0, step=0.1, description='A:')\n",
    "b_s = widgets.FloatSlider(value=3, min=-10.0, max=10.0, step=0.1, description='B:')\n",
    "c_s = widgets.FloatSlider(value=4, min=-10.0, max=10.0, step=0.1, description='C:')"
   ]
  },
  {
   "cell_type": "code",
   "execution_count": 9,
   "id": "5e8951e3-d23a-4fb4-b53f-1a32ee4f343e",
   "metadata": {},
   "outputs": [],
   "source": [
    "def builder(a, b, c):\n",
    "    fig = plt.figure()\n",
    "    ax = fig.add_subplot(projection = '3d')\n",
    "    u = np.linspace(0.0, 2 * np.pi, 100)\n",
    "    v = np.linspace(0.0, np.pi, 100)\n",
    "    X = a * np.outer( np.cos(u), np.sin(v))\n",
    "    Y = b * np.outer( np.sin(u), np.sin(v))\n",
    "    Z = c * np.outer(np.ones(np.size(u)), np.cos(v))\n",
    "    ax.plot_surface(X, Y, Z)\n",
    "    ax.set_aspect('equal')\n",
    "    ax.auto_scale_xyz([-6, 6], [-6, 6], [-6, 6])\n",
    "    \n",
    "    plt.show()"
   ]
  },
  {
   "cell_type": "code",
   "execution_count": 10,
   "id": "1a5573ec-6510-4045-adb3-4f982a262b36",
   "metadata": {},
   "outputs": [
    {
     "data": {
      "application/vnd.jupyter.widget-view+json": {
       "model_id": "5d70ae60551b489eaf655067559f3434",
       "version_major": 2,
       "version_minor": 0
      },
      "text/plain": [
       "interactive(children=(FloatSlider(value=1.0999999999999996, description='A:', max=10.0, min=-10.0), FloatSlide…"
      ]
     },
     "metadata": {},
     "output_type": "display_data"
    }
   ],
   "source": [
    "plot = widgets.interactive(builder, a = a_s, b = b_s, c = c_s)\n",
    "display(plot)"
   ]
  },
  {
   "cell_type": "code",
   "execution_count": null,
   "id": "b29c9395-c49a-4d67-a4ec-f112a40a19d4",
   "metadata": {},
   "outputs": [],
   "source": []
  }
 ],
 "metadata": {
  "kernelspec": {
   "display_name": "Python 3 (ipykernel)",
   "language": "python",
   "name": "python3"
  },
  "language_info": {
   "codemirror_mode": {
    "name": "ipython",
    "version": 3
   },
   "file_extension": ".py",
   "mimetype": "text/x-python",
   "name": "python",
   "nbconvert_exporter": "python",
   "pygments_lexer": "ipython3",
   "version": "3.11.5"
  }
 },
 "nbformat": 4,
 "nbformat_minor": 5
}
