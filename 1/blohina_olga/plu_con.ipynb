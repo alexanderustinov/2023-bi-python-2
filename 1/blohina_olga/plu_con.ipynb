{
 "cells": [
  {
   "cell_type": "code",
   "execution_count": 1,
   "id": "4360d4d3-8358-4fab-a90b-037893fdb513",
   "metadata": {},
   "outputs": [
    {
     "data": {
      "application/vnd.jupyter.widget-view+json": {
       "model_id": "b2237633824d4b86af7b16a91e1161df",
       "version_major": 2,
       "version_minor": 0
      },
      "text/plain": [
       "interactive(children=(IntSlider(value=1, description='n', max=20, min=1), Output()), _dom_classes=('widget-int…"
      ]
     },
     "metadata": {},
     "output_type": "display_data"
    },
    {
     "data": {
      "text/plain": [
       "<function __main__.pluc_con(n)>"
      ]
     },
     "execution_count": 1,
     "metadata": {},
     "output_type": "execute_result"
    }
   ],
   "source": [
    "%matplotlib ipympl\n",
    "import numpy as np\n",
    "import matplotlib.pyplot as plt\n",
    "import ipywidgets as widgets\n",
    "from ipywidgets import interact\n",
    "\n",
    "def parameters(u, v, n):\n",
    "    x = v * np.cos(u)\n",
    "    y = v * np.sin(u)\n",
    "    z = np.sin(n * u)\n",
    "    return x, y, z\n",
    "\n",
    "def pluc_con(n):\n",
    "    fig = plt.figure()\n",
    "    ax = fig.add_subplot(111, projection = '3d')\n",
    "    u = np.linspace(10, 2 * np.pi, 100)\n",
    "    v = np.linspace(-10, 10, 100)\n",
    "    u, v = np.meshgrid(u, v)\n",
    "    x, y, z = parameters(u, v, n)\n",
    "    ax.plot_surface(x, y, z, cmap='inferno')\n",
    "    ax.set_xlabel('X')\n",
    "    ax.set_ylabel('Y')\n",
    "    ax.set_zlabel('Z')\n",
    "    ax.set_title(\"Plücker's Conoid, n = {}\".format(n))\n",
    "    plt.show()\n",
    "\n",
    "n_w = widgets.IntSlider(value = 1, min =1 , max = 20, step = 1, description = 'n')\n",
    "interact(pluc_con, n = n_w)"
   ]
  },
  {
   "cell_type": "code",
   "execution_count": null,
   "id": "521a073b-d0ae-40b5-90cf-90d467c027ec",
   "metadata": {},
   "outputs": [],
   "source": []
  }
 ],
 "metadata": {
  "kernelspec": {
   "display_name": "Python 3 (ipykernel)",
   "language": "python",
   "name": "python3"
  },
  "language_info": {
   "codemirror_mode": {
    "name": "ipython",
    "version": 3
   },
   "file_extension": ".py",
   "mimetype": "text/x-python",
   "name": "python",
   "nbconvert_exporter": "python",
   "pygments_lexer": "ipython3",
   "version": "3.8.2"
  }
 },
 "nbformat": 4,
 "nbformat_minor": 5
}
