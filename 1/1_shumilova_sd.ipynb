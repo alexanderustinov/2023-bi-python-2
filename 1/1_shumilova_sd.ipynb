import numpy as np
import matplotlib.pyplot as plt
from mpl_toolkits.mplot3d import Axes3D
import ipywidgets as widgets
from IPython.display import display

def hyperboloid(x, y, z, a, b, c):
    return (x**2/a**2 + y**2/b**2 - z**2/c**2)

x = np.linspace(-5, 5, 100)
y = np.linspace(-5, 5, 100)
X, Y = np.meshgrid(x, y)

# Create ipywidgets for adjusting the parameters
a_slider = widgets.FloatSlider(value=1, min=0.1, max=5, step=0.1, description='a:')
b_slider = widgets.FloatSlider(value=1, min=0.1, max=5, step=0.1, description='b:')
c_slider = widgets.FloatSlider(value=1, min=0.1, max=5, step=0.1, description='c:')

def update_plot(a, b, c):
    Z = hyperboloid(X, Y, X**2/a**2 + Y**2/b**2, a, b, c)
    fig = plt.figure()
    ax = fig.add_subplot(111, projection='3d')
    ax.plot_surface(X, Y, Z, cmap='viridis')
    plt.show()

interactive_plot = widgets.interactive(update_plot, a=a_slider, b=b_slider, c=c_slider)
display(interactive_plot)
