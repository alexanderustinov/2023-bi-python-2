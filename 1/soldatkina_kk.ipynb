{
 "cells": [
  {
   "cell_type": "code",
   "execution_count": 9,
   "id": "8fac46d9-75d8-4080-a953-7fea9e7b1c02",
   "metadata": {},
   "outputs": [
    {
     "data": {
      "application/vnd.jupyter.widget-view+json": {
       "model_id": "b41052d079c846ea9152b54b4153f887",
       "version_major": 2,
       "version_minor": 0
      },
      "text/plain": [
       "interactive(children=(FloatSlider(value=1.0, description='Radius:', max=5.0, min=0.1), FloatSlider(value=3.0, …"
      ]
     },
     "metadata": {},
     "output_type": "display_data"
    },
    {
     "data": {
      "text/plain": [
       "<function __main__.render_cylinder(radius, height, resolution)>"
      ]
     },
     "execution_count": 9,
     "metadata": {},
     "output_type": "execute_result"
    }
   ],
   "source": [
    "%matplotlib widget\n",
    "import ipywidgets as widgets\n",
    "from ipywidgets import interact\n",
    "\n",
    "import matplotlib.pyplot as plt\n",
    "from mpl_toolkits.mplot3d import Axes3D\n",
    "import numpy as np\n",
    "\n",
    "radius_control = widgets.FloatSlider(value=1, min=0.1, max=5.0, step=0.1, description='Radius:')\n",
    "height_control = widgets.FloatSlider(value=3, min=1, max=10, step=1, description='Height:')\n",
    "resolution_control = widgets.IntSlider(value=50, min=10, max=100, step=10, description='Resolution:')\n",
    "\n",
    "def render_cylinder(radius, height, resolution):\n",
    "    fig = plt.figure()\n",
    "    ax = fig.add_subplot(111, projection='3d')\n",
    "\n",
    "    theta = np.linspace(0, 2*np.pi, resolution)\n",
    "    z = np.linspace(0, height, resolution)\n",
    "    theta, z = np.meshgrid(theta, z)\n",
    "    x = radius * np.cos(theta)\n",
    "    y = radius * np.sin(theta)\n",
    "    \n",
    "    ax.plot_surface(x, y, z, alpha=0.5)\n",
    "    ax.set_xlabel('X')\n",
    "    ax.set_ylabel('Y')\n",
    "    ax.set_zlabel('Z')\n",
    "    ax.set_title('Cylinder')\n",
    "    ax.set_xlim(-4, 4)\n",
    "    ax.set_ylim(-4, 4)\n",
    "    ax.set_zlim(0, 10)   \n",
    "    plt.show()\n",
    "\n",
    "interact(render_cylinder, radius=radius_control, height=height_control, resolution=resolution_control)"
   ]
  },
  {
   "cell_type": "markdown",
   "id": "4ff05d0f-9e54-4171-a5ad-f7f395dc296d",
   "metadata": {},
   "source": [
    "### Формула\n",
    "\n",
    "Уравнение цилиндрической поверхности:\n",
    "\n",
    "$x = r \\cdot \\cos(\\theta)$\n",
    "\n",
    "$y = r \\cdot \\sin(\\theta)$\n",
    "\n",
    "$z = z$\n",
    "\n",
    "где: $r$ - радиус цилиндра,\n",
    "($\\theta$) - угол,\n",
    "$z$ - высота цилиндра"
   ]
  }
 ],
 "metadata": {
  "kernelspec": {
   "display_name": "Python 3 (ipykernel)",
   "language": "python",
   "name": "python3"
  },
  "language_info": {
   "codemirror_mode": {
    "name": "ipython",
    "version": 3
   },
   "file_extension": ".py",
   "mimetype": "text/x-python",
   "name": "python",
   "nbconvert_exporter": "python",
   "pygments_lexer": "ipython3",
   "version": "3.11.4"
  }
 },
 "nbformat": 4,
 "nbformat_minor": 5
}
