{
 "cells": [
  {
   "cell_type": "markdown",
   "id": "82d5dfcc-828d-400c-bfde-de60945a2c42",
   "metadata": {},
   "source": [
    "# **Monkey saddle**\n",
    "It belongs to the class of saddle surfaces, and its name derives from the observation that a saddle for a monkey would require two depressions for the legs and one for the tail.\n",
    "\n",
    "*In mathematics, **the monkey saddle** is the surface defined by the equation:*\n",
    "$$ z = x^3 - 3xy^2 $$"
   ]
  },
  {
   "cell_type": "code",
   "execution_count": null,
   "id": "cfc2976c-b2bc-4b55-8e76-d1bf84537886",
   "metadata": {},
   "outputs": [],
   "source": [
    "%matplotlib ipympl\n",
    "import ipywidgets as widgets\n",
    "import matplotlib.pyplot as plt"
   ]
  },
  {
   "cell_type": "code",
   "execution_count": null,
   "id": "2264defd-59d9-457c-ac4b-a24741fdcda6",
   "metadata": {},
   "outputs": [],
   "source": [
    "a_s = widgets.FloatSlider(value = 5, min=-2.5, max=4.5, step=0.1, description='A:')\n",
    "b_s = widgets.FloatSlider(value = 5, min=-5.0, max=5.0, step=0.1, description='Z:')"
   ]
  },
  {
   "cell_type": "code",
   "execution_count": 109,
   "id": "22403dbb-da05-4de5-913f-9c02c68f85f4",
   "metadata": {},
   "outputs": [
    {
     "data": {
      "application/vnd.jupyter.widget-view+json": {
       "model_id": "3fab5631d72142bd9d828b0aeb0eb9d2",
       "version_major": 2,
       "version_minor": 0
      },
      "text/plain": [
       "interactive(children=(FloatSlider(value=2.4000000000000004, description='A:', max=4.5, min=-2.5), FloatSlider(…"
      ]
     },
     "metadata": {},
     "output_type": "display_data"
    }
   ],
   "source": [
    "import numpy as np\n",
    "\n",
    "from mpl_toolkits.mplot3d import axes3d\n",
    "\n",
    "def monkey(a, b):\n",
    "    fig = plt.figure()\n",
    "    ax = fig.add_subplot(projection='3d')\n",
    "    xs = np.linspace(-1, 1, 100)\n",
    "    ys = np.linspace(-1, 1, 100)\n",
    "    X, Y = np.meshgrid(xs, ys)\n",
    "    Z = b + a * X**3 - 3 * X * Y**2\n",
    "    ax.plot_surface(X, Y, Z)\n",
    "    ax.set_xlabel('X')\n",
    "    ax.set_ylabel('Y')\n",
    "    ax.set_zlabel('Z')\n",
    "    ax.set_title('Monkey saddle')\n",
    "    ax.set_xlim(-3, 3)\n",
    "    ax.set_ylim(-3, 3)\n",
    "    ax.set_zlim(-4, 4)\n",
    "    \n",
    "    \n",
    "    ax.set_aspect('equal')\n",
    "    plt.show()\n",
    "\n",
    "s = widgets.interactive(monkey, a = a_s, b = b_s)\n",
    "display(s)"
   ]
  }
 ],
 "metadata": {
  "kernelspec": {
   "display_name": "Python 3 (ipykernel)",
   "language": "python",
   "name": "python3"
  },
  "language_info": {
   "codemirror_mode": {
    "name": "ipython",
    "version": 3
   },
   "file_extension": ".py",
   "mimetype": "text/x-python",
   "name": "python",
   "nbconvert_exporter": "python",
   "pygments_lexer": "ipython3",
   "version": "3.11.5"
  }
 },
 "nbformat": 4,
 "nbformat_minor": 5
}
