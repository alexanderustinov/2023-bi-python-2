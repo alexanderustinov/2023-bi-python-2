{
 "cells": [
  {
   "cell_type": "code",
   "execution_count": 5,
   "metadata": {},
   "outputs": [
    {
     "data": {
      "application/vnd.jupyter.widget-view+json": {
       "model_id": "d431d8c9591c4120b122ae739154c120",
       "version_major": 2,
       "version_minor": 0
      },
      "text/plain": [
       "interactive(children=(FloatSlider(value=1.0, description='Radius:', max=5.0, min=0.1), FloatSlider(value=0.0, …"
      ]
     },
     "metadata": {},
     "output_type": "display_data"
    }
   ],
   "source": [
    "import numpy as np\n",
    "import matplotlib.pyplot as plt\n",
    "from mpl_toolkits.mplot3d import Axes3D\n",
    "import ipywidgets as widgets\n",
    "from IPython.display import display\n",
    "\n",
    "%matplotlib widget\n",
    "\n",
    "def plot_sphere(radius, x_center, y_center, z_center):\n",
    "    fig = plt.figure()\n",
    "    ax = fig.add_subplot(111, projection='3d')\n",
    "\n",
    "    phi = np.linspace(0, np.pi, 100)\n",
    "    theta = np.linspace(0, 2*np.pi, 100)\n",
    "    phi, theta = np.meshgrid(phi, theta)\n",
    "\n",
    "    x = x_center + radius * np.sin(phi) * np.cos(theta)\n",
    "    y = y_center + radius * np.sin(phi) * np.sin(theta)\n",
    "    z = z_center + radius * np.cos(phi)\n",
    "\n",
    "    ax.plot_surface(x, y, z, color='#32af70', alpha=0.3) #цвет не случайный, поигрался с датой рождения в 16ричной и получилось это\n",
    "\n",
    "    ax.set_box_aspect([1,1,1])\n",
    "\n",
    "    max_radius = max(radius, abs(x_center), abs(y_center), abs(z_center))\n",
    "    ax.set_xlim([-max_radius, max_radius])\n",
    "    ax.set_ylim([-max_radius, max_radius])\n",
    "    ax.set_zlim([-max_radius, max_radius])\n",
    "\n",
    "    plt.show()\n",
    "\n",
    "\n",
    "radius_slider = widgets.FloatSlider(value=1.0, min=0.1, max=5.0, step=0.1, description='Radius:')\n",
    "x_center_slider = widgets.FloatSlider(value=0.0, min=-5.0, max=5.0, step=0.1, description='X Center:')\n",
    "y_center_slider = widgets.FloatSlider(value=0.0, min=-5.0, max=5.0, step=0.1, description='Y Center:')\n",
    "z_center_slider = widgets.FloatSlider(value=0.0, min=-5.0, max=5.0, step=0.1, description='Z Center:')\n",
    "\n",
    "interactive_plot = widgets.interactive(plot_sphere,\n",
    "                                       radius=radius_slider,\n",
    "                                       x_center=x_center_slider,\n",
    "                                       y_center=y_center_slider,\n",
    "                                       z_center=z_center_slider)\n",
    "\n",
    "\n",
    "display(interactive_plot)\n"
   ]
  },
  {
   "cell_type": "markdown",
   "metadata": {},
   "source": [
    "### Уравнение сферы\n",
    "\n",
    "Уравнение сферы в трехмерном пространстве выражается следующим образом:\n",
    "\n",
    "$$(x - x_c)^2 + (y - y_c)^2 + (z - z_c)^2 = R^2 $$\n",
    "\n",
    "Где:\n",
    "- $x_c$\n",
    "- $x_c, y_c, z_c$ - координаты центра сферы,\n",
    "- $ R $ - радиус сферы.\n",
    "\n",
    "Это уравнение описывает все точки в трехмерном пространстве, которые находятся на ртии $R$ от цен сферы $x_c, y_c, z_c$"
   ]
  }
 ],
 "metadata": {
  "kernelspec": {
   "display_name": "Python 3 (ipykernel)",
   "language": "python",
   "name": "python3"
  },
  "language_info": {
   "codemirror_mode": {
    "name": "ipython",
    "version": 3
   },
   "file_extension": ".py",
   "mimetype": "text/x-python",
   "name": "python",
   "nbconvert_exporter": "python",
   "pygments_lexer": "ipython3",
   "version": "3.11.8"
  }
 },
 "nbformat": 4,
 "nbformat_minor": 4
}
