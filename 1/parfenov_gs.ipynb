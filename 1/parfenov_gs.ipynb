{
 "cells": [
  {
   "cell_type": "code",
   "execution_count": 5,
   "id": "28b32691-94de-41b1-b19b-6e864df8bc35",
   "metadata": {},
   "outputs": [
    {
     "data": {
      "application/vnd.jupyter.widget-view+json": {
       "model_id": "65ce9e1093f64646980a616e9864e240",
       "version_major": 2,
       "version_minor": 0
      },
      "text/plain": [
       "interactive(children=(IntSlider(value=30, description='circ count:', min=4), FloatSlider(value=1.0, descriptio…"
      ]
     },
     "metadata": {},
     "output_type": "display_data"
    }
   ],
   "source": [
    "%matplotlib ipympl\n",
    "import numpy as np\n",
    "import matplotlib.pyplot as plt\n",
    "from mpl_toolkits.mplot3d import Axes3D\n",
    "import ipywidgets as widgets\n",
    "from ipywidgets import interact\n",
    "\n",
    "a = widgets.IntSlider(value=30, min=4, max=100, step=1, description='circ count:')\n",
    "b = widgets.FloatSlider(value=1, min=0.1, max=3, step=0.1, description='x count:')\n",
    "c = widgets.FloatSlider(value=1, min=0.1, max=3, step=0.1, description='y count:')\n",
    "\n",
    "@interact(circ_count = a, x_c = b, y_c = c)\n",
    "\n",
    "def plot_cone(circ_count, x_c, y_c):\n",
    "    \n",
    "    fig = plt.figure()\n",
    "    ax = fig.add_subplot(111, projection='3d')\n",
    "\n",
    "    u = np.linspace(0, 2 * np.pi, circ_count)\n",
    "    v = np.linspace(0, 1, 100)\n",
    "    U, V = np.meshgrid(u, v)\n",
    "    X = V * x_c * np.cos(U)\n",
    "    Y = V * y_c *np.sin(U)\n",
    "    Z = V\n",
    "    \n",
    "    ax.plot_surface(X, Y, Z, color='c', alpha=0.6)\n",
    "    ax.set_xlim([-1, 1])\n",
    "    ax.set_ylim([-1, 1])\n",
    "    ax.set_zlim([0, 1])\n",
    "    ax.view_init(30, 30)\n",
    "    plt.show()"
   ]
  },
  {
   "cell_type": "markdown",
   "id": "e0e12469-be20-43c5-9d7c-45c6afdb16d2",
   "metadata": {},
   "source": [
    "## Cone (Конус)\n",
    "### Wiki page: https://en.wikipedia.org/wiki/Cone\n",
    "\n",
    "Конус — поверхность, образованная в пространстве множеством лучей (образующих конуса), соединяющих все точки некоторой плоской кривой (направляющей конуса) с данной точкой пространства (вершиной конуса).\n",
    "### Уравнения:\n",
    "$$x=rcosθ$$ $$y=rsinθ$$ $$z=r$$"
   ]
  }
 ],
 "metadata": {
  "kernelspec": {
   "display_name": "Python 3 (ipykernel)",
   "language": "python",
   "name": "python3"
  },
  "language_info": {
   "codemirror_mode": {
    "name": "ipython",
    "version": 3
   },
   "file_extension": ".py",
   "mimetype": "text/x-python",
   "name": "python",
   "nbconvert_exporter": "python",
   "pygments_lexer": "ipython3",
   "version": "3.11.5"
  }
 },
 "nbformat": 4,
 "nbformat_minor": 5
}
