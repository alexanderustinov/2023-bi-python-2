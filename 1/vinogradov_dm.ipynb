{
 "cells": [
  {
   "cell_type": "code",
   "execution_count": 4,
   "id": "13b192fb-531f-4995-b10a-309f7ab3e0e6",
   "metadata": {},
   "outputs": [
    {
     "data": {
      "application/vnd.jupyter.widget-view+json": {
       "model_id": "7384adddb1494e8987ad816754f6409c",
       "version_major": 2,
       "version_minor": 0
      },
      "text/plain": [
       "interactive(children=(FloatSlider(value=1.0, description='a', min=-100.0, step=1.0), FloatSlider(value=1.0, de…"
      ]
     },
     "metadata": {},
     "output_type": "display_data"
    }
   ],
   "source": [
    "%matplotlib ipympl\n",
    "import numpy as np\n",
    "import matplotlib.pyplot as plt\n",
    "from mpl_toolkits.mplot3d import Axes3D\n",
    "from ipywidgets import FloatSlider, interactive\n",
    "\n",
    "b = FloatSlider(min=-100, max=100, step=1, value=1)\n",
    "c = FloatSlider(min=-100, max=100, step=1, value=1)\n",
    "\n",
    "def f(a,g):\n",
    "    u = np.linspace(-10*a, 10*a, 100)\n",
    "    v = np.linspace(-10*g, 10*g, 100)\n",
    "    U, V = np.meshgrid(u, v)\n",
    "    X = (1/3)*U**3 - U*V**2 + U/(U**2+V**2)\n",
    "    Y = -U**2*V + (1/3)*V**3 - U/(U**2+V**2)\n",
    "    Z = 2*U\n",
    "\n",
    "    fig = plt.figure()\n",
    "    ax = fig.add_subplot(111, projection='3d')\n",
    "    ax.plot_surface(X, Y, Z)\n",
    "    plt.show()\n",
    "\n",
    "l = interactive(f, a=b, g=c)\n",
    "display(l)\n"
   ]
  },
  {
   "cell_type": "code",
   "execution_count": null,
   "id": "f2205374-ace0-4e0f-b5ff-314f3c983cdb",
   "metadata": {},
   "outputs": [],
   "source": []
  },
  {
   "cell_type": "code",
   "execution_count": null,
   "id": "0ec89a2f-10b5-42e4-9bc7-8c1131f68708",
   "metadata": {},
   "outputs": [],
   "source": []
  },
  {
   "cell_type": "code",
   "execution_count": null,
   "id": "413789fd-94d3-4592-9fed-a45465fec09b",
   "metadata": {},
   "outputs": [],
   "source": []
  },
  {
   "cell_type": "code",
   "execution_count": null,
   "id": "4c3ca2c5-5c19-45f8-b80e-3e987afd6daa",
   "metadata": {},
   "outputs": [],
   "source": []
  },
  {
   "cell_type": "code",
   "execution_count": null,
   "id": "36ce6792-18a6-4011-b296-e7bf30d92f40",
   "metadata": {},
   "outputs": [],
   "source": []
  }
 ],
 "metadata": {
  "kernelspec": {
   "display_name": "Python 3 (ipykernel)",
   "language": "python",
   "name": "python3"
  },
  "language_info": {
   "codemirror_mode": {
    "name": "ipython",
    "version": 3
   },
   "file_extension": ".py",
   "mimetype": "text/x-python",
   "name": "python",
   "nbconvert_exporter": "python",
   "pygments_lexer": "ipython3",
   "version": "3.11.8"
  }
 },
 "nbformat": 4,
 "nbformat_minor": 5
}
